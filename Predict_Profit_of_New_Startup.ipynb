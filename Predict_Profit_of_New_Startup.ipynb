{
 "cells": [
  {
   "cell_type": "code",
   "execution_count": 51,
   "metadata": {
    "id": "6lR8tV62dfxY"
   },
   "outputs": [],
   "source": [
    "#imported required libraries\n",
    "import numpy as np\n",
    "import pandas as pd\n",
    "import matplotlib.pyplot as plt\n",
    "import seaborn as sns"
   ]
  },
  {
   "cell_type": "code",
   "execution_count": 52,
   "metadata": {
    "id": "6Dpu0nXadfxY"
   },
   "outputs": [],
   "source": [
    "#loading data file\n",
    "data = pd.read_csv('50_Startups.csv')"
   ]
  },
  {
   "cell_type": "code",
   "execution_count": 53,
   "metadata": {
    "id": "oiebWqQ_dfxY",
    "outputId": "89749d5d-302c-4701-91b3-e9bd310e7e2b"
   },
   "outputs": [
    {
     "data": {
      "text/plain": [
       "<bound method DataFrame.info of     R&D Spend  Administration  Marketing Spend       State     Profit\n",
       "0   165349.20       136897.80        471784.10    New York  192261.83\n",
       "1   162597.70       151377.59        443898.53  California  191792.06\n",
       "2   153441.51       101145.55        407934.54     Florida  191050.39\n",
       "3   144372.41       118671.85        383199.62    New York  182901.99\n",
       "4   142107.34        91391.77        366168.42     Florida  166187.94\n",
       "5   131876.90        99814.71        362861.36    New York  156991.12\n",
       "6   134615.46       147198.87        127716.82  California  156122.51\n",
       "7   130298.13       145530.06        323876.68     Florida  155752.60\n",
       "8   120542.52       148718.95        311613.29    New York  152211.77\n",
       "9   123334.88       108679.17        304981.62  California  149759.96\n",
       "10  101913.08       110594.11        229160.95     Florida  146121.95\n",
       "11  100671.96        91790.61        249744.55  California  144259.40\n",
       "12   93863.75       127320.38        249839.44     Florida  141585.52\n",
       "13   91992.39       135495.07        252664.93  California  134307.35\n",
       "14  119943.24       156547.42        256512.92     Florida  132602.65\n",
       "15  114523.61       122616.84        261776.23    New York  129917.04\n",
       "16   78013.11       121597.55        264346.06  California  126992.93\n",
       "17   94657.16       145077.58        282574.31    New York  125370.37\n",
       "18   91749.16       114175.79        294919.57     Florida  124266.90\n",
       "19   86419.70       153514.11             0.00    New York  122776.86\n",
       "20   76253.86       113867.30        298664.47  California  118474.03\n",
       "21   78389.47       153773.43        299737.29    New York  111313.02\n",
       "22   73994.56       122782.75        303319.26     Florida  110352.25\n",
       "23   67532.53       105751.03        304768.73     Florida  108733.99\n",
       "24   77044.01        99281.34        140574.81    New York  108552.04\n",
       "25   64664.71       139553.16        137962.62  California  107404.34\n",
       "26   75328.87       144135.98        134050.07     Florida  105733.54\n",
       "27   72107.60       127864.55        353183.81    New York  105008.31\n",
       "28   66051.52       182645.56        118148.20     Florida  103282.38\n",
       "29   65605.48       153032.06        107138.38    New York  101004.64\n",
       "30   61994.48       115641.28         91131.24     Florida   99937.59\n",
       "31   61136.38       152701.92         88218.23    New York   97483.56\n",
       "32   63408.86       129219.61         46085.25  California   97427.84\n",
       "33   55493.95       103057.49        214634.81     Florida   96778.92\n",
       "34   46426.07       157693.92        210797.67  California   96712.80\n",
       "35   46014.02        85047.44        205517.64    New York   96479.51\n",
       "36   28663.76       127056.21        201126.82     Florida   90708.19\n",
       "37   44069.95        51283.14        197029.42  California   89949.14\n",
       "38   20229.59        65947.93        185265.10    New York   81229.06\n",
       "39   38558.51        82982.09        174999.30  California   81005.76\n",
       "40   28754.33       118546.05        172795.67  California   78239.91\n",
       "41   27892.92        84710.77        164470.71     Florida   77798.83\n",
       "42   23640.93        96189.63        148001.11  California   71498.49\n",
       "43   15505.73       127382.30         35534.17    New York   69758.98\n",
       "44   22177.74       154806.14         28334.72  California   65200.33\n",
       "45    1000.23       124153.04          1903.93    New York   64926.08\n",
       "46    1315.46       115816.21        297114.46     Florida   49490.75\n",
       "47       0.00       135426.92             0.00  California   42559.73\n",
       "48     542.05        51743.15             0.00    New York   35673.41\n",
       "49       0.00       116983.80         45173.06  California   14681.40>"
      ]
     },
     "execution_count": 53,
     "metadata": {},
     "output_type": "execute_result"
    }
   ],
   "source": [
    "# displays number of columns and records/rows in dataset\n",
    "#check if there is any missing data or not\n",
    "data.info"
   ]
  },
  {
   "cell_type": "code",
   "execution_count": 54,
   "metadata": {
    "id": "Lo44s7DndfxZ",
    "outputId": "c5767812-1bf4-414b-f01b-980851504143"
   },
   "outputs": [
    {
     "data": {
      "text/html": [
       "<div>\n",
       "<style scoped>\n",
       "    .dataframe tbody tr th:only-of-type {\n",
       "        vertical-align: middle;\n",
       "    }\n",
       "\n",
       "    .dataframe tbody tr th {\n",
       "        vertical-align: top;\n",
       "    }\n",
       "\n",
       "    .dataframe thead th {\n",
       "        text-align: right;\n",
       "    }\n",
       "</style>\n",
       "<table border=\"1\" class=\"dataframe\">\n",
       "  <thead>\n",
       "    <tr style=\"text-align: right;\">\n",
       "      <th></th>\n",
       "      <th>R&amp;D Spend</th>\n",
       "      <th>Administration</th>\n",
       "      <th>Marketing Spend</th>\n",
       "      <th>Profit</th>\n",
       "    </tr>\n",
       "  </thead>\n",
       "  <tbody>\n",
       "    <tr>\n",
       "      <th>count</th>\n",
       "      <td>50.000000</td>\n",
       "      <td>50.000000</td>\n",
       "      <td>50.000000</td>\n",
       "      <td>50.000000</td>\n",
       "    </tr>\n",
       "    <tr>\n",
       "      <th>mean</th>\n",
       "      <td>73721.615600</td>\n",
       "      <td>121344.639600</td>\n",
       "      <td>211025.097800</td>\n",
       "      <td>112012.639200</td>\n",
       "    </tr>\n",
       "    <tr>\n",
       "      <th>std</th>\n",
       "      <td>45902.256482</td>\n",
       "      <td>28017.802755</td>\n",
       "      <td>122290.310726</td>\n",
       "      <td>40306.180338</td>\n",
       "    </tr>\n",
       "    <tr>\n",
       "      <th>min</th>\n",
       "      <td>0.000000</td>\n",
       "      <td>51283.140000</td>\n",
       "      <td>0.000000</td>\n",
       "      <td>14681.400000</td>\n",
       "    </tr>\n",
       "    <tr>\n",
       "      <th>25%</th>\n",
       "      <td>39936.370000</td>\n",
       "      <td>103730.875000</td>\n",
       "      <td>129300.132500</td>\n",
       "      <td>90138.902500</td>\n",
       "    </tr>\n",
       "    <tr>\n",
       "      <th>50%</th>\n",
       "      <td>73051.080000</td>\n",
       "      <td>122699.795000</td>\n",
       "      <td>212716.240000</td>\n",
       "      <td>107978.190000</td>\n",
       "    </tr>\n",
       "    <tr>\n",
       "      <th>75%</th>\n",
       "      <td>101602.800000</td>\n",
       "      <td>144842.180000</td>\n",
       "      <td>299469.085000</td>\n",
       "      <td>139765.977500</td>\n",
       "    </tr>\n",
       "    <tr>\n",
       "      <th>max</th>\n",
       "      <td>165349.200000</td>\n",
       "      <td>182645.560000</td>\n",
       "      <td>471784.100000</td>\n",
       "      <td>192261.830000</td>\n",
       "    </tr>\n",
       "  </tbody>\n",
       "</table>\n",
       "</div>"
      ],
      "text/plain": [
       "           R&D Spend  Administration  Marketing Spend         Profit\n",
       "count      50.000000       50.000000        50.000000      50.000000\n",
       "mean    73721.615600   121344.639600    211025.097800  112012.639200\n",
       "std     45902.256482    28017.802755    122290.310726   40306.180338\n",
       "min         0.000000    51283.140000         0.000000   14681.400000\n",
       "25%     39936.370000   103730.875000    129300.132500   90138.902500\n",
       "50%     73051.080000   122699.795000    212716.240000  107978.190000\n",
       "75%    101602.800000   144842.180000    299469.085000  139765.977500\n",
       "max    165349.200000   182645.560000    471784.100000  192261.830000"
      ]
     },
     "execution_count": 54,
     "metadata": {},
     "output_type": "execute_result"
    }
   ],
   "source": [
    "data.describe()"
   ]
  },
  {
   "cell_type": "code",
   "execution_count": 55,
   "metadata": {
    "id": "G5SysJQPdfxa"
   },
   "outputs": [],
   "source": [
    "features = data.iloc[:,:-1].values\n",
    "label = data.iloc[:,[-1]].values"
   ]
  },
  {
   "cell_type": "code",
   "execution_count": 56,
   "metadata": {
    "id": "rHpEErZ9dfxa",
    "outputId": "ae4c1d2d-d773-4703-9135-7fc41d89fa7d"
   },
   "outputs": [
    {
     "data": {
      "text/plain": [
       "array([[165349.2, 136897.8, 471784.1, 'New York'],\n",
       "       [162597.7, 151377.59, 443898.53, 'California'],\n",
       "       [153441.51, 101145.55, 407934.54, 'Florida'],\n",
       "       [144372.41, 118671.85, 383199.62, 'New York'],\n",
       "       [142107.34, 91391.77, 366168.42, 'Florida'],\n",
       "       [131876.9, 99814.71, 362861.36, 'New York'],\n",
       "       [134615.46, 147198.87, 127716.82, 'California'],\n",
       "       [130298.13, 145530.06, 323876.68, 'Florida'],\n",
       "       [120542.52, 148718.95, 311613.29, 'New York'],\n",
       "       [123334.88, 108679.17, 304981.62, 'California'],\n",
       "       [101913.08, 110594.11, 229160.95, 'Florida'],\n",
       "       [100671.96, 91790.61, 249744.55, 'California'],\n",
       "       [93863.75, 127320.38, 249839.44, 'Florida'],\n",
       "       [91992.39, 135495.07, 252664.93, 'California'],\n",
       "       [119943.24, 156547.42, 256512.92, 'Florida'],\n",
       "       [114523.61, 122616.84, 261776.23, 'New York'],\n",
       "       [78013.11, 121597.55, 264346.06, 'California'],\n",
       "       [94657.16, 145077.58, 282574.31, 'New York'],\n",
       "       [91749.16, 114175.79, 294919.57, 'Florida'],\n",
       "       [86419.7, 153514.11, 0.0, 'New York'],\n",
       "       [76253.86, 113867.3, 298664.47, 'California'],\n",
       "       [78389.47, 153773.43, 299737.29, 'New York'],\n",
       "       [73994.56, 122782.75, 303319.26, 'Florida'],\n",
       "       [67532.53, 105751.03, 304768.73, 'Florida'],\n",
       "       [77044.01, 99281.34, 140574.81, 'New York'],\n",
       "       [64664.71, 139553.16, 137962.62, 'California'],\n",
       "       [75328.87, 144135.98, 134050.07, 'Florida'],\n",
       "       [72107.6, 127864.55, 353183.81, 'New York'],\n",
       "       [66051.52, 182645.56, 118148.2, 'Florida'],\n",
       "       [65605.48, 153032.06, 107138.38, 'New York'],\n",
       "       [61994.48, 115641.28, 91131.24, 'Florida'],\n",
       "       [61136.38, 152701.92, 88218.23, 'New York'],\n",
       "       [63408.86, 129219.61, 46085.25, 'California'],\n",
       "       [55493.95, 103057.49, 214634.81, 'Florida'],\n",
       "       [46426.07, 157693.92, 210797.67, 'California'],\n",
       "       [46014.02, 85047.44, 205517.64, 'New York'],\n",
       "       [28663.76, 127056.21, 201126.82, 'Florida'],\n",
       "       [44069.95, 51283.14, 197029.42, 'California'],\n",
       "       [20229.59, 65947.93, 185265.1, 'New York'],\n",
       "       [38558.51, 82982.09, 174999.3, 'California'],\n",
       "       [28754.33, 118546.05, 172795.67, 'California'],\n",
       "       [27892.92, 84710.77, 164470.71, 'Florida'],\n",
       "       [23640.93, 96189.63, 148001.11, 'California'],\n",
       "       [15505.73, 127382.3, 35534.17, 'New York'],\n",
       "       [22177.74, 154806.14, 28334.72, 'California'],\n",
       "       [1000.23, 124153.04, 1903.93, 'New York'],\n",
       "       [1315.46, 115816.21, 297114.46, 'Florida'],\n",
       "       [0.0, 135426.92, 0.0, 'California'],\n",
       "       [542.05, 51743.15, 0.0, 'New York'],\n",
       "       [0.0, 116983.8, 45173.06, 'California']], dtype=object)"
      ]
     },
     "execution_count": 56,
     "metadata": {},
     "output_type": "execute_result"
    }
   ],
   "source": [
    "features"
   ]
  },
  {
   "cell_type": "code",
   "execution_count": 57,
   "metadata": {
    "id": "b_wVlq18dfxa",
    "outputId": "0f3024bc-bcfb-44b1-de59-8615d6f5ffc0",
    "scrolled": true
   },
   "outputs": [
    {
     "data": {
      "text/plain": [
       "array([[0.0, 0.0, 1.0, 165349.2, 136897.8, 471784.1],\n",
       "       [1.0, 0.0, 0.0, 162597.7, 151377.59, 443898.53],\n",
       "       [0.0, 1.0, 0.0, 153441.51, 101145.55, 407934.54],\n",
       "       [0.0, 0.0, 1.0, 144372.41, 118671.85, 383199.62],\n",
       "       [0.0, 1.0, 0.0, 142107.34, 91391.77, 366168.42],\n",
       "       [0.0, 0.0, 1.0, 131876.9, 99814.71, 362861.36],\n",
       "       [1.0, 0.0, 0.0, 134615.46, 147198.87, 127716.82],\n",
       "       [0.0, 1.0, 0.0, 130298.13, 145530.06, 323876.68],\n",
       "       [0.0, 0.0, 1.0, 120542.52, 148718.95, 311613.29],\n",
       "       [1.0, 0.0, 0.0, 123334.88, 108679.17, 304981.62],\n",
       "       [0.0, 1.0, 0.0, 101913.08, 110594.11, 229160.95],\n",
       "       [1.0, 0.0, 0.0, 100671.96, 91790.61, 249744.55],\n",
       "       [0.0, 1.0, 0.0, 93863.75, 127320.38, 249839.44],\n",
       "       [1.0, 0.0, 0.0, 91992.39, 135495.07, 252664.93],\n",
       "       [0.0, 1.0, 0.0, 119943.24, 156547.42, 256512.92],\n",
       "       [0.0, 0.0, 1.0, 114523.61, 122616.84, 261776.23],\n",
       "       [1.0, 0.0, 0.0, 78013.11, 121597.55, 264346.06],\n",
       "       [0.0, 0.0, 1.0, 94657.16, 145077.58, 282574.31],\n",
       "       [0.0, 1.0, 0.0, 91749.16, 114175.79, 294919.57],\n",
       "       [0.0, 0.0, 1.0, 86419.7, 153514.11, 0.0],\n",
       "       [1.0, 0.0, 0.0, 76253.86, 113867.3, 298664.47],\n",
       "       [0.0, 0.0, 1.0, 78389.47, 153773.43, 299737.29],\n",
       "       [0.0, 1.0, 0.0, 73994.56, 122782.75, 303319.26],\n",
       "       [0.0, 1.0, 0.0, 67532.53, 105751.03, 304768.73],\n",
       "       [0.0, 0.0, 1.0, 77044.01, 99281.34, 140574.81],\n",
       "       [1.0, 0.0, 0.0, 64664.71, 139553.16, 137962.62],\n",
       "       [0.0, 1.0, 0.0, 75328.87, 144135.98, 134050.07],\n",
       "       [0.0, 0.0, 1.0, 72107.6, 127864.55, 353183.81],\n",
       "       [0.0, 1.0, 0.0, 66051.52, 182645.56, 118148.2],\n",
       "       [0.0, 0.0, 1.0, 65605.48, 153032.06, 107138.38],\n",
       "       [0.0, 1.0, 0.0, 61994.48, 115641.28, 91131.24],\n",
       "       [0.0, 0.0, 1.0, 61136.38, 152701.92, 88218.23],\n",
       "       [1.0, 0.0, 0.0, 63408.86, 129219.61, 46085.25],\n",
       "       [0.0, 1.0, 0.0, 55493.95, 103057.49, 214634.81],\n",
       "       [1.0, 0.0, 0.0, 46426.07, 157693.92, 210797.67],\n",
       "       [0.0, 0.0, 1.0, 46014.02, 85047.44, 205517.64],\n",
       "       [0.0, 1.0, 0.0, 28663.76, 127056.21, 201126.82],\n",
       "       [1.0, 0.0, 0.0, 44069.95, 51283.14, 197029.42],\n",
       "       [0.0, 0.0, 1.0, 20229.59, 65947.93, 185265.1],\n",
       "       [1.0, 0.0, 0.0, 38558.51, 82982.09, 174999.3],\n",
       "       [1.0, 0.0, 0.0, 28754.33, 118546.05, 172795.67],\n",
       "       [0.0, 1.0, 0.0, 27892.92, 84710.77, 164470.71],\n",
       "       [1.0, 0.0, 0.0, 23640.93, 96189.63, 148001.11],\n",
       "       [0.0, 0.0, 1.0, 15505.73, 127382.3, 35534.17],\n",
       "       [1.0, 0.0, 0.0, 22177.74, 154806.14, 28334.72],\n",
       "       [0.0, 0.0, 1.0, 1000.23, 124153.04, 1903.93],\n",
       "       [0.0, 1.0, 0.0, 1315.46, 115816.21, 297114.46],\n",
       "       [1.0, 0.0, 0.0, 0.0, 135426.92, 0.0],\n",
       "       [0.0, 0.0, 1.0, 542.05, 51743.15, 0.0],\n",
       "       [1.0, 0.0, 0.0, 0.0, 116983.8, 45173.06]], dtype=object)"
      ]
     },
     "execution_count": 57,
     "metadata": {},
     "output_type": "execute_result"
    }
   ],
   "source": [
    "#converting the categorical features to numerical features as \n",
    "#sklearn works only with numpy array\n",
    "#Instead of label enconding and then onehotencoding, \n",
    "#newer version directly works with onehotencoding using ColumnTransformer\n",
    "from sklearn.preprocessing import OneHotEncoder\n",
    "from sklearn.compose import ColumnTransformer\n",
    "transformer = ColumnTransformer(transformers=[\n",
    "        (\"OneHot\",        # Just a name\n",
    "         OneHotEncoder(), # The transformer class\n",
    "         [3]              # The column(s) to be applied on.\n",
    "         )\n",
    "    ],\n",
    "    remainder='passthrough' # donot apply anything to the remaining columns\n",
    ")\n",
    "features = transformer.fit_transform(features.tolist())\n",
    "features"
   ]
  },
  {
   "cell_type": "code",
   "execution_count": 58,
   "metadata": {
    "id": "68pre3y0dfxa"
   },
   "outputs": [],
   "source": [
    "#converting an object to normal array\n",
    "features = features.astype(float)"
   ]
  },
  {
   "cell_type": "code",
   "execution_count": 59,
   "metadata": {
    "id": "YPYY8Shidfxa",
    "outputId": "d6a212b0-befa-4696-9cff-e492ede3011a"
   },
   "outputs": [
    {
     "data": {
      "text/plain": [
       "([array([50.,  0.,  0.,  0.,  0.,  0.,  0.,  0.,  0.,  0.]),\n",
       "  array([50.,  0.,  0.,  0.,  0.,  0.,  0.,  0.,  0.,  0.]),\n",
       "  array([50.,  0.,  0.,  0.,  0.,  0.,  0.,  0.,  0.,  0.]),\n",
       "  array([16., 19., 10.,  5.,  0.,  0.,  0.,  0.,  0.,  0.]),\n",
       "  array([ 0.,  8., 28., 14.,  0.,  0.,  0.,  0.,  0.,  0.]),\n",
       "  array([8., 2., 6., 5., 6., 7., 9., 3., 2., 2.])],\n",
       " array([     0.  ,  47178.41,  94356.82, 141535.23, 188713.64, 235892.05,\n",
       "        283070.46, 330248.87, 377427.28, 424605.69, 471784.1 ]),\n",
       " <a list of 6 Lists of Patches objects>)"
      ]
     },
     "execution_count": 59,
     "metadata": {},
     "output_type": "execute_result"
    },
    {
     "data": {
      "image/png": "[encoded data removed]",
      "text/plain": [
       "<Figure size 432x288 with 1 Axes>"
      ]
     },
     "metadata": {
      "needs_background": "light"
     },
     "output_type": "display_data"
    }
   ],
   "source": [
    "features\n",
    "plt.hist(features)\n"
   ]
  },
  {
   "cell_type": "code",
   "execution_count": 60,
   "metadata": {
    "id": "HS085G0Udfxa"
   },
   "outputs": [],
   "source": [
    "#sampling the dataset\n",
    "#normally 20% dataset is used for testing and 80% is used for training --> test_size=0.2 means 20%  \n",
    "#Training set will be used to train the model\n",
    "#Creating Training and Testing sets\n",
    "# Testing set will be used to test our model\n",
    "from sklearn.model_selection import train_test_split\n",
    "X_train,X_test,y_train,y_test = train_test_split(features,\n",
    "                                                label,\n",
    "                                                test_size=0.2,\n",
    "                                                random_state=0)"
   ]
  },
  {
   "cell_type": "code",
   "execution_count": 61,
   "metadata": {
    "id": "tyilNWsOdfxb",
    "outputId": "787102a5-98ec-4ac3-e874-abaa09cf93ad"
   },
   "outputs": [
    {
     "data": {
      "text/plain": [
       "DecisionTreeRegressor(ccp_alpha=0.0, criterion='mse', max_depth=20,\n",
       "                      max_features=None, max_leaf_nodes=None,\n",
       "                      min_impurity_decrease=0.0, min_impurity_split=None,\n",
       "                      min_samples_leaf=1, min_samples_split=2,\n",
       "                      min_weight_fraction_leaf=0.0, presort='deprecated',\n",
       "                      random_state=25, splitter='best')"
      ]
     },
     "execution_count": 61,
     "metadata": {},
     "output_type": "execute_result"
    }
   ],
   "source": [
    "#Create our model using Linear Regression\n",
    "from sklearn.tree import DecisionTreeRegressor\n",
    "DTR = DecisionTreeRegressor(max_depth=20, random_state=25)\n",
    "DTR.fit(X_train,y_train)"
   ]
  },
  {
   "cell_type": "code",
   "execution_count": 62,
   "metadata": {
    "id": "5h2aNur1dfxb",
    "outputId": "fe951170-1f9d-4e30-eab7-584377de5113"
   },
   "outputs": [
    {
     "name": "stdout",
     "output_type": "stream",
     "text": [
      "[101004.64 141585.52 141585.52  78239.91 182901.99 105733.54  71498.49\n",
      "  99937.59 105733.54 156991.12]\n",
      "1.0\n",
      "0.9760218847941271\n"
     ]
    }
   ],
   "source": [
    "#checking score of training as well as testing\n",
    "print(DTR.predict(X_test))\n",
    "print(DTR.score(X_train,y_train))\n",
    "print(DTR.score(X_test,y_test))"
   ]
  },
  {
   "cell_type": "code",
   "execution_count": 64,
   "metadata": {},
   "outputs": [
    {
     "data": {
      "text/plain": [
       "[<matplotlib.lines.Line2D at 0x2cdcab414c8>,\n",
       " <matplotlib.lines.Line2D at 0x2cdca9924c8>,\n",
       " <matplotlib.lines.Line2D at 0x2cdca992a48>,\n",
       " <matplotlib.lines.Line2D at 0x2cdca9927c8>,\n",
       " <matplotlib.lines.Line2D at 0x2cdca992348>,\n",
       " <matplotlib.lines.Line2D at 0x2cdca992d08>]"
      ]
     },
     "execution_count": 64,
     "metadata": {},
     "output_type": "execute_result"
    },
    {
     "data": {
      "image/png": "[encoded data removed]",
      "text/plain": [
       "<Figure size 432x288 with 1 Axes>"
      ]
     },
     "metadata": {
      "needs_background": "light"
     },
     "output_type": "display_data"
    }
   ],
   "source": [
    "plt.plot(X_train, y_train)"
   ]
  },
  {
   "cell_type": "code",
   "execution_count": 65,
   "metadata": {
    "id": "ZuaMtn7Idfxb",
    "outputId": "12930ce0-cfbf-4c65-b537-754d6d5f19a4"
   },
   "outputs": [
    {
     "name": "stdout",
     "output_type": "stream",
     "text": [
      "n_estimator =  20\n",
      "Training Score = 0.9897014544917216\n",
      "TEsting Score =  0.9589178635892103\n",
      "n_estimator =  21\n",
      "Training Score = 0.9862987651834896\n",
      "TEsting Score =  0.9617278311564493\n",
      "n_estimator =  22\n",
      "Training Score = 0.9898451743342909\n",
      "TEsting Score =  0.9757366843025443\n",
      "n_estimator =  23\n",
      "Training Score = 0.9885803502224981\n",
      "TEsting Score =  0.9685182797509041\n",
      "n_estimator =  24\n",
      "Training Score = 0.9878532363040986\n",
      "TEsting Score =  0.9695682563937759\n",
      "n_estimator =  25\n",
      "Training Score = 0.9895325694435698\n",
      "TEsting Score =  0.9639806199983711\n",
      "n_estimator =  26\n",
      "Training Score = 0.9882137731038143\n",
      "TEsting Score =  0.9609784416848871\n",
      "n_estimator =  27\n",
      "Training Score = 0.988648652634079\n",
      "TEsting Score =  0.9678319091264266\n",
      "n_estimator =  28\n",
      "Training Score = 0.9895736014181095\n",
      "TEsting Score =  0.9630970668666973\n",
      "n_estimator =  29\n",
      "Training Score = 0.9858971111698596\n",
      "TEsting Score =  0.9581550096931782\n",
      "n_estimator =  30\n",
      "Training Score = 0.9883224775707282\n",
      "TEsting Score =  0.958332423181981\n",
      "n_estimator =  31\n",
      "Training Score = 0.9892594197103273\n",
      "TEsting Score =  0.9489016576256952\n",
      "n_estimator =  32\n",
      "Training Score = 0.9873750333623406\n",
      "TEsting Score =  0.9684206348096164\n",
      "n_estimator =  33\n",
      "Training Score = 0.988523974514656\n",
      "TEsting Score =  0.9676160165329821\n",
      "n_estimator =  34\n",
      "Training Score = 0.988455466986045\n",
      "TEsting Score =  0.9611750530714769\n",
      "n_estimator =  35\n",
      "Training Score = 0.9891183762384437\n",
      "TEsting Score =  0.9594764269647599\n",
      "n_estimator =  36\n",
      "Training Score = 0.9877114476804\n",
      "TEsting Score =  0.9587098864492312\n",
      "n_estimator =  37\n",
      "Training Score = 0.9874677836305522\n",
      "TEsting Score =  0.9665959864769783\n",
      "n_estimator =  38\n",
      "Training Score = 0.9871572582051849\n",
      "TEsting Score =  0.9610809348667384\n",
      "n_estimator =  39\n",
      "Training Score = 0.9871632024156751\n",
      "TEsting Score =  0.9662907330057318\n",
      "n_estimator =  40\n",
      "Training Score = 0.9879960243434527\n",
      "TEsting Score =  0.9657052813398491\n",
      "n_estimator =  41\n",
      "Training Score = 0.9891269770197848\n",
      "TEsting Score =  0.9650243146093103\n",
      "n_estimator =  42\n",
      "Training Score = 0.9874812013428224\n",
      "TEsting Score =  0.9610368275755937\n",
      "n_estimator =  43\n",
      "Training Score = 0.9893704278376351\n",
      "TEsting Score =  0.9588911274581837\n",
      "n_estimator =  44\n",
      "Training Score = 0.988079598753373\n",
      "TEsting Score =  0.962000846015339\n",
      "n_estimator =  45\n",
      "Training Score = 0.9868709081165531\n",
      "TEsting Score =  0.957958583195199\n",
      "n_estimator =  46\n",
      "Training Score = 0.9878660564425729\n",
      "TEsting Score =  0.9643438282038261\n",
      "n_estimator =  47\n",
      "Training Score = 0.9852048587079302\n",
      "TEsting Score =  0.9630563004673204\n",
      "n_estimator =  48\n",
      "Training Score = 0.9884454729600871\n",
      "TEsting Score =  0.9622100256158808\n",
      "n_estimator =  49\n",
      "Training Score = 0.9873470196987266\n",
      "TEsting Score =  0.9612783236191829\n",
      "n_estimator =  50\n",
      "Training Score = 0.9873416323749379\n",
      "TEsting Score =  0.9589404983173043\n",
      "n_estimator =  51\n",
      "Training Score = 0.9895239047173358\n",
      "TEsting Score =  0.9598901407546674\n",
      "n_estimator =  52\n",
      "Training Score = 0.9878107780129497\n",
      "TEsting Score =  0.960861149479752\n",
      "n_estimator =  53\n",
      "Training Score = 0.9862366403378622\n",
      "TEsting Score =  0.9645159081087956\n",
      "n_estimator =  54\n",
      "Training Score = 0.9883118492430528\n",
      "TEsting Score =  0.9670755112638381\n",
      "n_estimator =  55\n",
      "Training Score = 0.9880856264079766\n",
      "TEsting Score =  0.9649668526924826\n",
      "n_estimator =  56\n",
      "Training Score = 0.989067035871307\n",
      "TEsting Score =  0.9632766384403989\n",
      "n_estimator =  57\n",
      "Training Score = 0.9887752101546982\n",
      "TEsting Score =  0.9569518237720579\n",
      "n_estimator =  58\n",
      "Training Score = 0.9884837807476137\n",
      "TEsting Score =  0.9577634213435998\n",
      "n_estimator =  59\n",
      "Training Score = 0.9878516003387792\n",
      "TEsting Score =  0.9672688298539831\n",
      "n_estimator =  60\n",
      "Training Score = 0.9868231330271231\n",
      "TEsting Score =  0.9602292523855499\n",
      "n_estimator =  61\n",
      "Training Score = 0.9872468006519162\n",
      "TEsting Score =  0.9644155735746345\n",
      "n_estimator =  62\n",
      "Training Score = 0.9873780593772225\n",
      "TEsting Score =  0.964526185666333\n",
      "n_estimator =  63\n",
      "Training Score = 0.988590932983366\n",
      "TEsting Score =  0.9650057532933917\n",
      "n_estimator =  64\n",
      "Training Score = 0.9869891333868135\n",
      "TEsting Score =  0.9619523995138389\n",
      "n_estimator =  65\n",
      "Training Score = 0.9902717344694794\n",
      "TEsting Score =  0.9626311552544657\n",
      "n_estimator =  66\n",
      "Training Score = 0.9865359103782062\n",
      "TEsting Score =  0.9659396264232476\n",
      "n_estimator =  67\n",
      "Training Score = 0.9891145756200196\n",
      "TEsting Score =  0.9588379118783824\n",
      "n_estimator =  68\n",
      "Training Score = 0.9892218284108977\n",
      "TEsting Score =  0.9642880052256446\n",
      "n_estimator =  69\n",
      "Training Score = 0.98767205759937\n",
      "TEsting Score =  0.9613946034865152\n",
      "n_estimator =  70\n",
      "Training Score = 0.9869888300406711\n",
      "TEsting Score =  0.9641415900741819\n",
      "n_estimator =  71\n",
      "Training Score = 0.9884534481973091\n",
      "TEsting Score =  0.9657729742461277\n",
      "n_estimator =  72\n",
      "Training Score = 0.9880773734114643\n",
      "TEsting Score =  0.9625177803913566\n",
      "n_estimator =  73\n",
      "Training Score = 0.9881970408389789\n",
      "TEsting Score =  0.9614053558857618\n",
      "n_estimator =  74\n",
      "Training Score = 0.9877924099474913\n",
      "TEsting Score =  0.9751517071359445\n",
      "n_estimator =  75\n",
      "Training Score = 0.9878875706572452\n",
      "TEsting Score =  0.9645507255975568\n",
      "n_estimator =  76\n",
      "Training Score = 0.988557910997826\n",
      "TEsting Score =  0.9730470457052696\n",
      "n_estimator =  77\n",
      "Training Score = 0.9890744026020014\n",
      "TEsting Score =  0.9650563085649116\n",
      "n_estimator =  78\n",
      "Training Score = 0.9890385860734787\n",
      "TEsting Score =  0.96793288566581\n",
      "n_estimator =  79\n",
      "Training Score = 0.9881852190294412\n",
      "TEsting Score =  0.9640397622025819\n",
      "n_estimator =  80\n",
      "Training Score = 0.9898976248428909\n",
      "TEsting Score =  0.9667681351740691\n",
      "n_estimator =  81\n",
      "Training Score = 0.9876258845180038\n",
      "TEsting Score =  0.9639986327174902\n",
      "n_estimator =  82\n",
      "Training Score = 0.989192664400176\n",
      "TEsting Score =  0.9646040657719629\n",
      "n_estimator =  83\n",
      "Training Score = 0.9886928576482614\n",
      "TEsting Score =  0.9568667588742914\n",
      "n_estimator =  84\n",
      "Training Score = 0.9841385083021571\n",
      "TEsting Score =  0.9643522701638237\n",
      "n_estimator =  85\n",
      "Training Score = 0.9893333264076742\n",
      "TEsting Score =  0.9655327589470024\n",
      "n_estimator =  86\n",
      "Training Score = 0.9880164529222808\n",
      "TEsting Score =  0.9632403528033084\n",
      "n_estimator =  87\n",
      "Training Score = 0.9895532544505146\n",
      "TEsting Score =  0.9582785983202158\n",
      "n_estimator =  88\n",
      "Training Score = 0.9875258198307948\n",
      "TEsting Score =  0.9666131393815234\n",
      "n_estimator =  89\n",
      "Training Score = 0.9888509382954409\n",
      "TEsting Score =  0.9602064354107952\n",
      "n_estimator =  90\n",
      "Training Score = 0.9880687727375692\n",
      "TEsting Score =  0.9647408951032327\n",
      "n_estimator =  91\n",
      "Training Score = 0.9855332528777079\n",
      "TEsting Score =  0.9648182125165355\n",
      "n_estimator =  92\n",
      "Training Score = 0.9869954327841156\n",
      "TEsting Score =  0.9668908864966824\n",
      "n_estimator =  93\n",
      "Training Score = 0.988973396195441\n",
      "TEsting Score =  0.9644177481883558\n",
      "n_estimator =  94\n",
      "Training Score = 0.9876951754428187\n",
      "TEsting Score =  0.9640285805123581\n",
      "n_estimator =  95\n",
      "Training Score = 0.9881135067884635\n",
      "TEsting Score =  0.9623981014429003\n",
      "n_estimator =  96\n",
      "Training Score = 0.9888348076239016\n",
      "TEsting Score =  0.9615444808119584\n",
      "n_estimator =  97\n",
      "Training Score = 0.9883837229820238\n",
      "TEsting Score =  0.9653104694156701\n",
      "n_estimator =  98\n",
      "Training Score = 0.9890921118414958\n",
      "TEsting Score =  0.9611913174542008\n",
      "n_estimator =  99\n",
      "Training Score = 0.9878761010486017\n",
      "TEsting Score =  0.9688368002046848\n"
     ]
    }
   ],
   "source": [
    "#Creating Model Using RandomForestRegressor\n",
    "from sklearn.ensemble import RandomForestRegressor\n",
    "for i in range(20,100):\n",
    "    RF=RandomForestRegressor(n_estimators=100, max_depth= 10)\n",
    "    RF.fit(X_train,y_train.ravel())\n",
    "    RF.predict(X_test)\n",
    "    print(\"n_estimator = \",i)\n",
    "    print(\"Training Score =\",RF.score(X_train,y_train))\n",
    "    print(\"TEsting Score = \",RF.score(X_test,y_test))"
   ]
  },
  {
   "cell_type": "code",
   "execution_count": 66,
   "metadata": {},
   "outputs": [
    {
     "name": "stdout",
     "output_type": "stream",
     "text": [
      "[[103015.20159796]\n",
      " [132582.27760816]\n",
      " [132447.73845174]\n",
      " [ 71976.09851258]\n",
      " [178537.48221055]\n",
      " [116161.24230166]\n",
      " [ 67851.69209676]\n",
      " [ 98791.73374686]\n",
      " [113969.43533013]\n",
      " [167921.06569551]]\n"
     ]
    }
   ],
   "source": [
    "#Creating Model Using Sklearn.Inear_model LinearRegression\n",
    "from sklearn.linear_model import LinearRegression\n",
    "reg= LinearRegression()\n",
    "reg.fit(X_train, y_train)\n",
    "print(reg.predict(X_test))"
   ]
  },
  {
   "cell_type": "code",
   "execution_count": 67,
   "metadata": {},
   "outputs": [],
   "source": [
    "training_score = reg.score(X_train, y_train)\n",
    "test_score = reg.score(X_test, y_test)"
   ]
  },
  {
   "cell_type": "markdown",
   "metadata": {},
   "source": [
    "As I see the working load and accuracy of Trainig and Testing Dataset, I have noticed the Decision Tree Regressor alogorithm predicted more accurate then other two algorithms.\n",
    "\n",
    "Accuracy of DeicisionTreeRegressor is : \n",
    "Training set: 100%\n",
    "Testing set: 97%\n",
    "\n",
    "Accuracy of RandomForestRegressor is :\n",
    "Training set: 98%\n",
    "Testing set: 96%\n",
    "\n",
    "Accuracy of LinearRegressor is :\n",
    "Training set: 95%\n",
    "Testing set: 93%"
   ]
  },
  {
   "cell_type": "code",
   "execution_count": 68,
   "metadata": {},
   "outputs": [
    {
     "data": {
      "image/png": "[encoded data removed]",
      "text/plain": [
       "<Figure size 432x288 with 1 Axes>"
      ]
     },
     "metadata": {
      "needs_background": "light"
     },
     "output_type": "display_data"
    }
   ],
   "source": [
    "plt.hist(training_score)\n",
    "plt.hist(test_score, alpha=0.5)\n",
    "plt.legend([\"training\", \"testing\"])\n",
    "plt.show()"
   ]
  },
  {
   "cell_type": "code",
   "execution_count": null,
   "metadata": {},
   "outputs": [],
   "source": []
  }
 ],
 "metadata": {
  "colab": {
   "name": "DecisionTree_RandomForest_Regression.ipynb",
   "provenance": []
  },
  "kernelspec": {
   "display_name": "Python 3",
   "language": "python",
   "name": "python3"
  },
  "language_info": {
   "codemirror_mode": {
    "name": "ipython",
    "version": 3
   },
   "file_extension": ".py",
   "mimetype": "text/x-python",
   "name": "python",
   "nbconvert_exporter": "python",
   "pygments_lexer": "ipython3",
   "version": "3.7.6"
  }
 },
 "nbformat": 4,
 "nbformat_minor": 1
}
