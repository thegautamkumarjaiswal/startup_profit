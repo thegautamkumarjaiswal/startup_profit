{
 "cells": [
  {
   "cell_type": "markdown",
   "metadata": {},
   "source": [
    "### Hi\n",
    "My name is **Gautam Kumar Jaiswal**. This is **my project \"Sartup's Profit Predictor\"** for **DSC HMRITM Mentee Program** in the guidance of **Mr. Depender kumar soni**."
   ]
  },
  {
   "cell_type": "code",
   "execution_count": 49,
   "metadata": {
    "id": "6lR8tV62dfxY"
   },
   "outputs": [
    {
     "data": {
      "text/plain": [
       "'1.18.1'"
      ]
     },
     "execution_count": 49,
     "metadata": {},
     "output_type": "execute_result"
    }
   ],
   "source": [
    "#imported required libraries\n",
    "import numpy as np\n",
    "import pandas as pd\n",
    "import matplotlib.pyplot as plt\n",
    "import seaborn as sns\n",
    "np.__version__"
   ]
  },
  {
   "cell_type": "code",
   "execution_count": 50,
   "metadata": {
    "id": "6Dpu0nXadfxY"
   },
   "outputs": [],
   "source": [
    "#loading data file\n",
    "data = pd.read_csv('50_Startups.csv')"
   ]
  },
  {
   "cell_type": "code",
   "execution_count": 51,
   "metadata": {
    "id": "oiebWqQ_dfxY",
    "outputId": "89749d5d-302c-4701-91b3-e9bd310e7e2b"
   },
   "outputs": [
    {
     "data": {
      "text/plain": [
       "<bound method DataFrame.info of     R&D Spend  Administration  Marketing Spend       State     Profit\n",
       "0   165349.20       136897.80        471784.10    New York  192261.83\n",
       "1   162597.70       151377.59        443898.53  California  191792.06\n",
       "2   153441.51       101145.55        407934.54     Florida  191050.39\n",
       "3   144372.41       118671.85        383199.62    New York  182901.99\n",
       "4   142107.34        91391.77        366168.42     Florida  166187.94\n",
       "5   131876.90        99814.71        362861.36    New York  156991.12\n",
       "6   134615.46       147198.87        127716.82  California  156122.51\n",
       "7   130298.13       145530.06        323876.68     Florida  155752.60\n",
       "8   120542.52       148718.95        311613.29    New York  152211.77\n",
       "9   123334.88       108679.17        304981.62  California  149759.96\n",
       "10  101913.08       110594.11        229160.95     Florida  146121.95\n",
       "11  100671.96        91790.61        249744.55  California  144259.40\n",
       "12   93863.75       127320.38        249839.44     Florida  141585.52\n",
       "13   91992.39       135495.07        252664.93  California  134307.35\n",
       "14  119943.24       156547.42        256512.92     Florida  132602.65\n",
       "15  114523.61       122616.84        261776.23    New York  129917.04\n",
       "16   78013.11       121597.55        264346.06  California  126992.93\n",
       "17   94657.16       145077.58        282574.31    New York  125370.37\n",
       "18   91749.16       114175.79        294919.57     Florida  124266.90\n",
       "19   86419.70       153514.11             0.00    New York  122776.86\n",
       "20   76253.86       113867.30        298664.47  California  118474.03\n",
       "21   78389.47       153773.43        299737.29    New York  111313.02\n",
       "22   73994.56       122782.75        303319.26     Florida  110352.25\n",
       "23   67532.53       105751.03        304768.73     Florida  108733.99\n",
       "24   77044.01        99281.34        140574.81    New York  108552.04\n",
       "25   64664.71       139553.16        137962.62  California  107404.34\n",
       "26   75328.87       144135.98        134050.07     Florida  105733.54\n",
       "27   72107.60       127864.55        353183.81    New York  105008.31\n",
       "28   66051.52       182645.56        118148.20     Florida  103282.38\n",
       "29   65605.48       153032.06        107138.38    New York  101004.64\n",
       "30   61994.48       115641.28         91131.24     Florida   99937.59\n",
       "31   61136.38       152701.92         88218.23    New York   97483.56\n",
       "32   63408.86       129219.61         46085.25  California   97427.84\n",
       "33   55493.95       103057.49        214634.81     Florida   96778.92\n",
       "34   46426.07       157693.92        210797.67  California   96712.80\n",
       "35   46014.02        85047.44        205517.64    New York   96479.51\n",
       "36   28663.76       127056.21        201126.82     Florida   90708.19\n",
       "37   44069.95        51283.14        197029.42  California   89949.14\n",
       "38   20229.59        65947.93        185265.10    New York   81229.06\n",
       "39   38558.51        82982.09        174999.30  California   81005.76\n",
       "40   28754.33       118546.05        172795.67  California   78239.91\n",
       "41   27892.92        84710.77        164470.71     Florida   77798.83\n",
       "42   23640.93        96189.63        148001.11  California   71498.49\n",
       "43   15505.73       127382.30         35534.17    New York   69758.98\n",
       "44   22177.74       154806.14         28334.72  California   65200.33\n",
       "45    1000.23       124153.04          1903.93    New York   64926.08\n",
       "46    1315.46       115816.21        297114.46     Florida   49490.75\n",
       "47       0.00       135426.92             0.00  California   42559.73\n",
       "48     542.05        51743.15             0.00    New York   35673.41\n",
       "49       0.00       116983.80         45173.06  California   14681.40>"
      ]
     },
     "execution_count": 51,
     "metadata": {},
     "output_type": "execute_result"
    }
   ],
   "source": [
    "# displays number of columns and records/rows in dataset\n",
    "#check if there is any missing data or not\n",
    "data.info"
   ]
  },
  {
   "cell_type": "code",
   "execution_count": 52,
   "metadata": {
    "id": "Lo44s7DndfxZ",
    "outputId": "c5767812-1bf4-414b-f01b-980851504143"
   },
   "outputs": [
    {
     "data": {
      "text/html": [
       "<div>\n",
       "<style scoped>\n",
       "    .dataframe tbody tr th:only-of-type {\n",
       "        vertical-align: middle;\n",
       "    }\n",
       "\n",
       "    .dataframe tbody tr th {\n",
       "        vertical-align: top;\n",
       "    }\n",
       "\n",
       "    .dataframe thead th {\n",
       "        text-align: right;\n",
       "    }\n",
       "</style>\n",
       "<table border=\"1\" class=\"dataframe\">\n",
       "  <thead>\n",
       "    <tr style=\"text-align: right;\">\n",
       "      <th></th>\n",
       "      <th>R&amp;D Spend</th>\n",
       "      <th>Administration</th>\n",
       "      <th>Marketing Spend</th>\n",
       "      <th>Profit</th>\n",
       "    </tr>\n",
       "  </thead>\n",
       "  <tbody>\n",
       "    <tr>\n",
       "      <th>count</th>\n",
       "      <td>50.000000</td>\n",
       "      <td>50.000000</td>\n",
       "      <td>50.000000</td>\n",
       "      <td>50.000000</td>\n",
       "    </tr>\n",
       "    <tr>\n",
       "      <th>mean</th>\n",
       "      <td>73721.615600</td>\n",
       "      <td>121344.639600</td>\n",
       "      <td>211025.097800</td>\n",
       "      <td>112012.639200</td>\n",
       "    </tr>\n",
       "    <tr>\n",
       "      <th>std</th>\n",
       "      <td>45902.256482</td>\n",
       "      <td>28017.802755</td>\n",
       "      <td>122290.310726</td>\n",
       "      <td>40306.180338</td>\n",
       "    </tr>\n",
       "    <tr>\n",
       "      <th>min</th>\n",
       "      <td>0.000000</td>\n",
       "      <td>51283.140000</td>\n",
       "      <td>0.000000</td>\n",
       "      <td>14681.400000</td>\n",
       "    </tr>\n",
       "    <tr>\n",
       "      <th>25%</th>\n",
       "      <td>39936.370000</td>\n",
       "      <td>103730.875000</td>\n",
       "      <td>129300.132500</td>\n",
       "      <td>90138.902500</td>\n",
       "    </tr>\n",
       "    <tr>\n",
       "      <th>50%</th>\n",
       "      <td>73051.080000</td>\n",
       "      <td>122699.795000</td>\n",
       "      <td>212716.240000</td>\n",
       "      <td>107978.190000</td>\n",
       "    </tr>\n",
       "    <tr>\n",
       "      <th>75%</th>\n",
       "      <td>101602.800000</td>\n",
       "      <td>144842.180000</td>\n",
       "      <td>299469.085000</td>\n",
       "      <td>139765.977500</td>\n",
       "    </tr>\n",
       "    <tr>\n",
       "      <th>max</th>\n",
       "      <td>165349.200000</td>\n",
       "      <td>182645.560000</td>\n",
       "      <td>471784.100000</td>\n",
       "      <td>192261.830000</td>\n",
       "    </tr>\n",
       "  </tbody>\n",
       "</table>\n",
       "</div>"
      ],
      "text/plain": [
       "           R&D Spend  Administration  Marketing Spend         Profit\n",
       "count      50.000000       50.000000        50.000000      50.000000\n",
       "mean    73721.615600   121344.639600    211025.097800  112012.639200\n",
       "std     45902.256482    28017.802755    122290.310726   40306.180338\n",
       "min         0.000000    51283.140000         0.000000   14681.400000\n",
       "25%     39936.370000   103730.875000    129300.132500   90138.902500\n",
       "50%     73051.080000   122699.795000    212716.240000  107978.190000\n",
       "75%    101602.800000   144842.180000    299469.085000  139765.977500\n",
       "max    165349.200000   182645.560000    471784.100000  192261.830000"
      ]
     },
     "execution_count": 52,
     "metadata": {},
     "output_type": "execute_result"
    }
   ],
   "source": [
    "data.describe()"
   ]
  },
  {
   "cell_type": "code",
   "execution_count": 53,
   "metadata": {
    "id": "G5SysJQPdfxa"
   },
   "outputs": [],
   "source": [
    "features = data.iloc[:,:-1].values\n",
    "label = data.iloc[:, 1].values"
   ]
  },
  {
   "cell_type": "code",
   "execution_count": 54,
   "metadata": {
    "id": "rHpEErZ9dfxa",
    "outputId": "ae4c1d2d-d773-4703-9135-7fc41d89fa7d"
   },
   "outputs": [
    {
     "data": {
      "text/plain": [
       "array([[165349.2, 136897.8, 471784.1, 'New York'],\n",
       "       [162597.7, 151377.59, 443898.53, 'California'],\n",
       "       [153441.51, 101145.55, 407934.54, 'Florida'],\n",
       "       [144372.41, 118671.85, 383199.62, 'New York'],\n",
       "       [142107.34, 91391.77, 366168.42, 'Florida'],\n",
       "       [131876.9, 99814.71, 362861.36, 'New York'],\n",
       "       [134615.46, 147198.87, 127716.82, 'California'],\n",
       "       [130298.13, 145530.06, 323876.68, 'Florida'],\n",
       "       [120542.52, 148718.95, 311613.29, 'New York'],\n",
       "       [123334.88, 108679.17, 304981.62, 'California'],\n",
       "       [101913.08, 110594.11, 229160.95, 'Florida'],\n",
       "       [100671.96, 91790.61, 249744.55, 'California'],\n",
       "       [93863.75, 127320.38, 249839.44, 'Florida'],\n",
       "       [91992.39, 135495.07, 252664.93, 'California'],\n",
       "       [119943.24, 156547.42, 256512.92, 'Florida'],\n",
       "       [114523.61, 122616.84, 261776.23, 'New York'],\n",
       "       [78013.11, 121597.55, 264346.06, 'California'],\n",
       "       [94657.16, 145077.58, 282574.31, 'New York'],\n",
       "       [91749.16, 114175.79, 294919.57, 'Florida'],\n",
       "       [86419.7, 153514.11, 0.0, 'New York'],\n",
       "       [76253.86, 113867.3, 298664.47, 'California'],\n",
       "       [78389.47, 153773.43, 299737.29, 'New York'],\n",
       "       [73994.56, 122782.75, 303319.26, 'Florida'],\n",
       "       [67532.53, 105751.03, 304768.73, 'Florida'],\n",
       "       [77044.01, 99281.34, 140574.81, 'New York'],\n",
       "       [64664.71, 139553.16, 137962.62, 'California'],\n",
       "       [75328.87, 144135.98, 134050.07, 'Florida'],\n",
       "       [72107.6, 127864.55, 353183.81, 'New York'],\n",
       "       [66051.52, 182645.56, 118148.2, 'Florida'],\n",
       "       [65605.48, 153032.06, 107138.38, 'New York'],\n",
       "       [61994.48, 115641.28, 91131.24, 'Florida'],\n",
       "       [61136.38, 152701.92, 88218.23, 'New York'],\n",
       "       [63408.86, 129219.61, 46085.25, 'California'],\n",
       "       [55493.95, 103057.49, 214634.81, 'Florida'],\n",
       "       [46426.07, 157693.92, 210797.67, 'California'],\n",
       "       [46014.02, 85047.44, 205517.64, 'New York'],\n",
       "       [28663.76, 127056.21, 201126.82, 'Florida'],\n",
       "       [44069.95, 51283.14, 197029.42, 'California'],\n",
       "       [20229.59, 65947.93, 185265.1, 'New York'],\n",
       "       [38558.51, 82982.09, 174999.3, 'California'],\n",
       "       [28754.33, 118546.05, 172795.67, 'California'],\n",
       "       [27892.92, 84710.77, 164470.71, 'Florida'],\n",
       "       [23640.93, 96189.63, 148001.11, 'California'],\n",
       "       [15505.73, 127382.3, 35534.17, 'New York'],\n",
       "       [22177.74, 154806.14, 28334.72, 'California'],\n",
       "       [1000.23, 124153.04, 1903.93, 'New York'],\n",
       "       [1315.46, 115816.21, 297114.46, 'Florida'],\n",
       "       [0.0, 135426.92, 0.0, 'California'],\n",
       "       [542.05, 51743.15, 0.0, 'New York'],\n",
       "       [0.0, 116983.8, 45173.06, 'California']], dtype=object)"
      ]
     },
     "execution_count": 54,
     "metadata": {},
     "output_type": "execute_result"
    }
   ],
   "source": [
    "features"
   ]
  },
  {
   "cell_type": "code",
   "execution_count": 55,
   "metadata": {
    "id": "b_wVlq18dfxa",
    "outputId": "0f3024bc-bcfb-44b1-de59-8615d6f5ffc0",
    "scrolled": true
   },
   "outputs": [
    {
     "data": {
      "text/plain": [
       "array([[0.0, 0.0, 1.0, 165349.2, 136897.8, 471784.1],\n",
       "       [1.0, 0.0, 0.0, 162597.7, 151377.59, 443898.53],\n",
       "       [0.0, 1.0, 0.0, 153441.51, 101145.55, 407934.54],\n",
       "       [0.0, 0.0, 1.0, 144372.41, 118671.85, 383199.62],\n",
       "       [0.0, 1.0, 0.0, 142107.34, 91391.77, 366168.42],\n",
       "       [0.0, 0.0, 1.0, 131876.9, 99814.71, 362861.36],\n",
       "       [1.0, 0.0, 0.0, 134615.46, 147198.87, 127716.82],\n",
       "       [0.0, 1.0, 0.0, 130298.13, 145530.06, 323876.68],\n",
       "       [0.0, 0.0, 1.0, 120542.52, 148718.95, 311613.29],\n",
       "       [1.0, 0.0, 0.0, 123334.88, 108679.17, 304981.62],\n",
       "       [0.0, 1.0, 0.0, 101913.08, 110594.11, 229160.95],\n",
       "       [1.0, 0.0, 0.0, 100671.96, 91790.61, 249744.55],\n",
       "       [0.0, 1.0, 0.0, 93863.75, 127320.38, 249839.44],\n",
       "       [1.0, 0.0, 0.0, 91992.39, 135495.07, 252664.93],\n",
       "       [0.0, 1.0, 0.0, 119943.24, 156547.42, 256512.92],\n",
       "       [0.0, 0.0, 1.0, 114523.61, 122616.84, 261776.23],\n",
       "       [1.0, 0.0, 0.0, 78013.11, 121597.55, 264346.06],\n",
       "       [0.0, 0.0, 1.0, 94657.16, 145077.58, 282574.31],\n",
       "       [0.0, 1.0, 0.0, 91749.16, 114175.79, 294919.57],\n",
       "       [0.0, 0.0, 1.0, 86419.7, 153514.11, 0.0],\n",
       "       [1.0, 0.0, 0.0, 76253.86, 113867.3, 298664.47],\n",
       "       [0.0, 0.0, 1.0, 78389.47, 153773.43, 299737.29],\n",
       "       [0.0, 1.0, 0.0, 73994.56, 122782.75, 303319.26],\n",
       "       [0.0, 1.0, 0.0, 67532.53, 105751.03, 304768.73],\n",
       "       [0.0, 0.0, 1.0, 77044.01, 99281.34, 140574.81],\n",
       "       [1.0, 0.0, 0.0, 64664.71, 139553.16, 137962.62],\n",
       "       [0.0, 1.0, 0.0, 75328.87, 144135.98, 134050.07],\n",
       "       [0.0, 0.0, 1.0, 72107.6, 127864.55, 353183.81],\n",
       "       [0.0, 1.0, 0.0, 66051.52, 182645.56, 118148.2],\n",
       "       [0.0, 0.0, 1.0, 65605.48, 153032.06, 107138.38],\n",
       "       [0.0, 1.0, 0.0, 61994.48, 115641.28, 91131.24],\n",
       "       [0.0, 0.0, 1.0, 61136.38, 152701.92, 88218.23],\n",
       "       [1.0, 0.0, 0.0, 63408.86, 129219.61, 46085.25],\n",
       "       [0.0, 1.0, 0.0, 55493.95, 103057.49, 214634.81],\n",
       "       [1.0, 0.0, 0.0, 46426.07, 157693.92, 210797.67],\n",
       "       [0.0, 0.0, 1.0, 46014.02, 85047.44, 205517.64],\n",
       "       [0.0, 1.0, 0.0, 28663.76, 127056.21, 201126.82],\n",
       "       [1.0, 0.0, 0.0, 44069.95, 51283.14, 197029.42],\n",
       "       [0.0, 0.0, 1.0, 20229.59, 65947.93, 185265.1],\n",
       "       [1.0, 0.0, 0.0, 38558.51, 82982.09, 174999.3],\n",
       "       [1.0, 0.0, 0.0, 28754.33, 118546.05, 172795.67],\n",
       "       [0.0, 1.0, 0.0, 27892.92, 84710.77, 164470.71],\n",
       "       [1.0, 0.0, 0.0, 23640.93, 96189.63, 148001.11],\n",
       "       [0.0, 0.0, 1.0, 15505.73, 127382.3, 35534.17],\n",
       "       [1.0, 0.0, 0.0, 22177.74, 154806.14, 28334.72],\n",
       "       [0.0, 0.0, 1.0, 1000.23, 124153.04, 1903.93],\n",
       "       [0.0, 1.0, 0.0, 1315.46, 115816.21, 297114.46],\n",
       "       [1.0, 0.0, 0.0, 0.0, 135426.92, 0.0],\n",
       "       [0.0, 0.0, 1.0, 542.05, 51743.15, 0.0],\n",
       "       [1.0, 0.0, 0.0, 0.0, 116983.8, 45173.06]], dtype=object)"
      ]
     },
     "execution_count": 55,
     "metadata": {},
     "output_type": "execute_result"
    }
   ],
   "source": [
    "#converting the categorical features to numerical features as \n",
    "#sklearn works only with numpy array\n",
    "#Instead of label enconding and then onehotencoding, \n",
    "#newer version directly works with onehotencoding using ColumnTransformer\n",
    "from sklearn.preprocessing import OneHotEncoder\n",
    "from sklearn.compose import ColumnTransformer\n",
    "transformer = ColumnTransformer(transformers=[\n",
    "        (\"OneHot\",        # Just a name\n",
    "         OneHotEncoder(), # The transformer class\n",
    "         [3]              # The column(s) to be applied on.\n",
    "         )\n",
    "    ],\n",
    "    remainder='passthrough' # donot apply anything to the remaining columns\n",
    ")\n",
    "features = transformer.fit_transform(features.tolist())\n",
    "features"
   ]
  },
  {
   "cell_type": "code",
   "execution_count": 56,
   "metadata": {
    "id": "68pre3y0dfxa"
   },
   "outputs": [],
   "source": [
    "#converting an object to normal array\n",
    "features = features.astype(float)"
   ]
  },
  {
   "cell_type": "code",
   "execution_count": 57,
   "metadata": {
    "id": "YPYY8Shidfxa",
    "outputId": "d6a212b0-befa-4696-9cff-e492ede3011a"
   },
   "outputs": [
    {
     "data": {
      "text/plain": [
       "([array([50.,  0.,  0.,  0.,  0.,  0.,  0.,  0.,  0.,  0.]),\n",
       "  array([50.,  0.,  0.,  0.,  0.,  0.,  0.,  0.,  0.,  0.]),\n",
       "  array([50.,  0.,  0.,  0.,  0.,  0.,  0.,  0.,  0.,  0.]),\n",
       "  array([16., 19., 10.,  5.,  0.,  0.,  0.,  0.,  0.,  0.]),\n",
       "  array([ 0.,  8., 28., 14.,  0.,  0.,  0.,  0.,  0.,  0.]),\n",
       "  array([8., 2., 6., 5., 6., 7., 9., 3., 2., 2.])],\n",
       " array([     0.  ,  47178.41,  94356.82, 141535.23, 188713.64, 235892.05,\n",
       "        283070.46, 330248.87, 377427.28, 424605.69, 471784.1 ]),\n",
       " <a list of 6 Lists of Patches objects>)"
      ]
     },
     "execution_count": 57,
     "metadata": {},
     "output_type": "execute_result"
    },
    {
     "data": {
      "image/png": "[encoded data removed]",
      "text/plain": [
       "<Figure size 432x288 with 1 Axes>"
      ]
     },
     "metadata": {
      "needs_background": "light"
     },
     "output_type": "display_data"
    }
   ],
   "source": [
    "features\n",
    "plt.hist(features)\n"
   ]
  },
  {
   "cell_type": "code",
   "execution_count": 58,
   "metadata": {
    "id": "HS085G0Udfxa"
   },
   "outputs": [],
   "source": [
    "#sampling the dataset\n",
    "#normally 20% dataset is used for testing and 80% is used for training --> test_size=0.2 means 20%  \n",
    "#Training set will be used to train the model\n",
    "#Creating Training and Testing sets\n",
    "# Testing set will be used to test our model\n",
    "from sklearn.model_selection import train_test_split\n",
    "X_train,X_test,y_train,y_test = train_test_split(features,\n",
    "                                                label,\n",
    "                                                test_size=0.2,\n",
    "                                                random_state=0)"
   ]
  },
  {
   "cell_type": "code",
   "execution_count": 59,
   "metadata": {
    "id": "tyilNWsOdfxb",
    "outputId": "787102a5-98ec-4ac3-e874-abaa09cf93ad"
   },
   "outputs": [
    {
     "data": {
      "text/plain": [
       "DecisionTreeRegressor(ccp_alpha=0.0, criterion='mse', max_depth=20,\n",
       "                      max_features=None, max_leaf_nodes=None,\n",
       "                      min_impurity_decrease=0.0, min_impurity_split=None,\n",
       "                      min_samples_leaf=1, min_samples_split=2,\n",
       "                      min_weight_fraction_leaf=0.0, presort='deprecated',\n",
       "                      random_state=25, splitter='best')"
      ]
     },
     "execution_count": 59,
     "metadata": {},
     "output_type": "execute_result"
    }
   ],
   "source": [
    "#Create our model using Linear Regression\n",
    "from sklearn.tree import DecisionTreeRegressor\n",
    "DTR = DecisionTreeRegressor(max_depth=20, random_state=25)\n",
    "DTR.fit(X_train,y_train)"
   ]
  },
  {
   "cell_type": "code",
   "execution_count": 60,
   "metadata": {
    "id": "5h2aNur1dfxb",
    "outputId": "fe951170-1f9d-4e30-eab7-584377de5113"
   },
   "outputs": [
    {
     "name": "stdout",
     "output_type": "stream",
     "text": [
      "[157693.92  96189.63 108679.17  82982.09 105751.03 127320.38  51743.15\n",
      " 153032.06 122616.84 105751.03]\n",
      "100.0\n",
      "90.03550764751186\n"
     ]
    }
   ],
   "source": [
    "#checking score of training as well as testing\n",
    "print(DTR.predict(X_test))\n",
    "print(DTR.score(X_train,y_train) * 100)\n",
    "print(DTR.score(X_test,y_test) * 100)"
   ]
  },
  {
   "cell_type": "code",
   "execution_count": 61,
   "metadata": {},
   "outputs": [
    {
     "data": {
      "text/plain": [
       "[<matplotlib.lines.Line2D at 0x237d96b9fc8>,\n",
       " <matplotlib.lines.Line2D at 0x237d96c2f88>,\n",
       " <matplotlib.lines.Line2D at 0x237d96cd188>,\n",
       " <matplotlib.lines.Line2D at 0x237d96cd348>,\n",
       " <matplotlib.lines.Line2D at 0x237d96cd548>,\n",
       " <matplotlib.lines.Line2D at 0x237d96cd748>]"
      ]
     },
     "execution_count": 61,
     "metadata": {},
     "output_type": "execute_result"
    },
    {
     "data": {
      "image/png": "[encoded data removed]",
      "text/plain": [
       "<Figure size 432x288 with 1 Axes>"
      ]
     },
     "metadata": {
      "needs_background": "light"
     },
     "output_type": "display_data"
    }
   ],
   "source": [
    "plt.plot(X_train, y_train)"
   ]
  },
  {
   "cell_type": "code",
   "execution_count": 62,
   "metadata": {
    "id": "ZuaMtn7Idfxb",
    "outputId": "12930ce0-cfbf-4c65-b537-754d6d5f19a4"
   },
   "outputs": [
    {
     "name": "stdout",
     "output_type": "stream",
     "text": [
      "n_estimator =  20\n",
      "Training Score = 0.9924446278324606\n",
      "TEsting Score =  0.9300630632945065\n",
      "n_estimator =  21\n",
      "Training Score = 0.9931208938572137\n",
      "TEsting Score =  0.9273138289876112\n",
      "n_estimator =  22\n",
      "Training Score = 0.9976193650624643\n",
      "TEsting Score =  0.9242807316479235\n",
      "n_estimator =  23\n",
      "Training Score = 0.991554078340023\n",
      "TEsting Score =  0.9319858078501237\n",
      "n_estimator =  24\n",
      "Training Score = 0.995195311791872\n",
      "TEsting Score =  0.9288539395652695\n",
      "n_estimator =  25\n",
      "Training Score = 0.9959023583063608\n",
      "TEsting Score =  0.9292999781938194\n",
      "n_estimator =  26\n",
      "Training Score = 0.9944119022352285\n",
      "TEsting Score =  0.9299534177618607\n",
      "n_estimator =  27\n",
      "Training Score = 0.9937075103263515\n",
      "TEsting Score =  0.9291171181363175\n",
      "n_estimator =  28\n",
      "Training Score = 0.9961229735666232\n",
      "TEsting Score =  0.9274973921914733\n",
      "n_estimator =  29\n",
      "Training Score = 0.9948528575259822\n",
      "TEsting Score =  0.9277652503261574\n",
      "n_estimator =  30\n",
      "Training Score = 0.9957783157069527\n",
      "TEsting Score =  0.9254444612815897\n",
      "n_estimator =  31\n",
      "Training Score = 0.9931304984396478\n",
      "TEsting Score =  0.9320089840054622\n",
      "n_estimator =  32\n",
      "Training Score = 0.995606474899814\n",
      "TEsting Score =  0.9267554793987361\n",
      "n_estimator =  33\n",
      "Training Score = 0.9933081214015592\n",
      "TEsting Score =  0.9278355356409527\n",
      "n_estimator =  34\n",
      "Training Score = 0.994339093133593\n",
      "TEsting Score =  0.9255182351363144\n",
      "n_estimator =  35\n",
      "Training Score = 0.9942380890459096\n",
      "TEsting Score =  0.9260750116305402\n",
      "n_estimator =  36\n",
      "Training Score = 0.9934523655932871\n",
      "TEsting Score =  0.9298747652094632\n",
      "n_estimator =  37\n",
      "Training Score = 0.9954467613042807\n",
      "TEsting Score =  0.9294578393234095\n",
      "n_estimator =  38\n",
      "Training Score = 0.9950396326655461\n",
      "TEsting Score =  0.9314613797773436\n",
      "n_estimator =  39\n",
      "Training Score = 0.9942186864114231\n",
      "TEsting Score =  0.9277611707534376\n",
      "n_estimator =  40\n",
      "Training Score = 0.9949846630838651\n",
      "TEsting Score =  0.9247638941700742\n",
      "n_estimator =  41\n",
      "Training Score = 0.9932535708895752\n",
      "TEsting Score =  0.9304087530006441\n",
      "n_estimator =  42\n",
      "Training Score = 0.9949289790447239\n",
      "TEsting Score =  0.9268817309391693\n",
      "n_estimator =  43\n",
      "Training Score = 0.9914286589971931\n",
      "TEsting Score =  0.9311889044904758\n",
      "n_estimator =  44\n",
      "Training Score = 0.9947259218544126\n",
      "TEsting Score =  0.927290814846137\n",
      "n_estimator =  45\n",
      "Training Score = 0.9965253857050643\n",
      "TEsting Score =  0.9259577904992851\n",
      "n_estimator =  46\n",
      "Training Score = 0.9955214690415265\n",
      "TEsting Score =  0.930143716809683\n",
      "n_estimator =  47\n",
      "Training Score = 0.9936774314867147\n",
      "TEsting Score =  0.9279236336670382\n",
      "n_estimator =  48\n",
      "Training Score = 0.9929686870913402\n",
      "TEsting Score =  0.9290611800832116\n",
      "n_estimator =  49\n",
      "Training Score = 0.9949603633504384\n",
      "TEsting Score =  0.9272777813020556\n",
      "n_estimator =  50\n",
      "Training Score = 0.9941263557593156\n",
      "TEsting Score =  0.9300299932527614\n",
      "n_estimator =  51\n",
      "Training Score = 0.9947113313720818\n",
      "TEsting Score =  0.9276858442633331\n",
      "n_estimator =  52\n",
      "Training Score = 0.9946505416416468\n",
      "TEsting Score =  0.9270307001712338\n",
      "n_estimator =  53\n",
      "Training Score = 0.9953951621078614\n",
      "TEsting Score =  0.9294519331325409\n",
      "n_estimator =  54\n",
      "Training Score = 0.992784684805881\n",
      "TEsting Score =  0.9304865587276742\n",
      "n_estimator =  55\n",
      "Training Score = 0.9940893647553463\n",
      "TEsting Score =  0.9252030253885458\n",
      "n_estimator =  56\n",
      "Training Score = 0.9939550109073698\n",
      "TEsting Score =  0.9297813076540447\n",
      "n_estimator =  57\n",
      "Training Score = 0.9943460432320597\n",
      "TEsting Score =  0.9261028659197136\n",
      "n_estimator =  58\n",
      "Training Score = 0.9946326995761117\n",
      "TEsting Score =  0.9312269801063592\n",
      "n_estimator =  59\n",
      "Training Score = 0.994058447321027\n",
      "TEsting Score =  0.9305604816904851\n",
      "n_estimator =  60\n",
      "Training Score = 0.9933732218966298\n",
      "TEsting Score =  0.9270636155498451\n",
      "n_estimator =  61\n",
      "Training Score = 0.9929237124752142\n",
      "TEsting Score =  0.9314070759381652\n",
      "n_estimator =  62\n",
      "Training Score = 0.9949589791411427\n",
      "TEsting Score =  0.9297252296440203\n",
      "n_estimator =  63\n",
      "Training Score = 0.9941311468981222\n",
      "TEsting Score =  0.9295485411290907\n",
      "n_estimator =  64\n",
      "Training Score = 0.9960409810442862\n",
      "TEsting Score =  0.9256927565237062\n",
      "n_estimator =  65\n",
      "Training Score = 0.9955297865120915\n",
      "TEsting Score =  0.9293461117898295\n",
      "n_estimator =  66\n",
      "Training Score = 0.9928600897758713\n",
      "TEsting Score =  0.9283595378587651\n",
      "n_estimator =  67\n",
      "Training Score = 0.995176878858815\n",
      "TEsting Score =  0.9319301500842503\n",
      "n_estimator =  68\n",
      "Training Score = 0.9918076413415259\n",
      "TEsting Score =  0.9306349804827794\n",
      "n_estimator =  69\n",
      "Training Score = 0.9931342718555575\n",
      "TEsting Score =  0.931429998534687\n",
      "n_estimator =  70\n",
      "Training Score = 0.9933932777332098\n",
      "TEsting Score =  0.9317406061883448\n",
      "n_estimator =  71\n",
      "Training Score = 0.9952212934418401\n",
      "TEsting Score =  0.9312593630881559\n",
      "n_estimator =  72\n",
      "Training Score = 0.9943067975251701\n",
      "TEsting Score =  0.927603742160833\n",
      "n_estimator =  73\n",
      "Training Score = 0.9890960313848598\n",
      "TEsting Score =  0.9306660167554072\n",
      "n_estimator =  74\n",
      "Training Score = 0.9936736263975972\n",
      "TEsting Score =  0.9266725179382028\n",
      "n_estimator =  75\n",
      "Training Score = 0.9923442436796109\n",
      "TEsting Score =  0.9309995162707266\n",
      "n_estimator =  76\n",
      "Training Score = 0.9969992807466558\n",
      "TEsting Score =  0.9251361955717331\n",
      "n_estimator =  77\n",
      "Training Score = 0.9936813005913339\n",
      "TEsting Score =  0.9307276033312496\n",
      "n_estimator =  78\n",
      "Training Score = 0.9937662772189694\n",
      "TEsting Score =  0.9275857387363908\n",
      "n_estimator =  79\n",
      "Training Score = 0.9908743711584462\n",
      "TEsting Score =  0.9290725439423925\n",
      "n_estimator =  80\n",
      "Training Score = 0.9953654401220754\n",
      "TEsting Score =  0.9294595113073523\n",
      "n_estimator =  81\n",
      "Training Score = 0.9936127312412912\n",
      "TEsting Score =  0.9329233562860568\n",
      "n_estimator =  82\n",
      "Training Score = 0.996579138756242\n",
      "TEsting Score =  0.9247132458591779\n",
      "n_estimator =  83\n",
      "Training Score = 0.9951261448813093\n",
      "TEsting Score =  0.9288293014333415\n",
      "n_estimator =  84\n",
      "Training Score = 0.9941457529611755\n",
      "TEsting Score =  0.9292298522176801\n",
      "n_estimator =  85\n",
      "Training Score = 0.9953342356802283\n",
      "TEsting Score =  0.9275160663847809\n",
      "n_estimator =  86\n",
      "Training Score = 0.997182479737876\n",
      "TEsting Score =  0.9236681463627388\n",
      "n_estimator =  87\n",
      "Training Score = 0.9946836267194106\n",
      "TEsting Score =  0.9290302998913673\n",
      "n_estimator =  88\n",
      "Training Score = 0.9939772015455495\n",
      "TEsting Score =  0.9286289271280438\n",
      "n_estimator =  89\n",
      "Training Score = 0.9964201794705773\n",
      "TEsting Score =  0.9273093714219568\n",
      "n_estimator =  90\n",
      "Training Score = 0.9966695657457465\n",
      "TEsting Score =  0.9253702681840704\n",
      "n_estimator =  91\n",
      "Training Score = 0.9942820419878117\n",
      "TEsting Score =  0.9273561207738833\n",
      "n_estimator =  92\n",
      "Training Score = 0.9941132657458827\n",
      "TEsting Score =  0.9294873762671034\n",
      "n_estimator =  93\n",
      "Training Score = 0.9932629219448782\n",
      "TEsting Score =  0.9278196244686585\n",
      "n_estimator =  94\n",
      "Training Score = 0.9924634560351541\n",
      "TEsting Score =  0.9309270956528508\n",
      "n_estimator =  95\n",
      "Training Score = 0.9944303364027092\n",
      "TEsting Score =  0.9303609099954464\n",
      "n_estimator =  96\n",
      "Training Score = 0.9936388250567432\n",
      "TEsting Score =  0.9296828797596945\n",
      "n_estimator =  97\n",
      "Training Score = 0.9936190349556201\n",
      "TEsting Score =  0.9327501154610274\n",
      "n_estimator =  98\n",
      "Training Score = 0.9953450173749209\n",
      "TEsting Score =  0.9286526775784033\n",
      "n_estimator =  99\n",
      "Training Score = 0.9944417817687031\n",
      "TEsting Score =  0.9288260916399327\n"
     ]
    }
   ],
   "source": [
    "#Creating Model Using RandomForestRegressor\n",
    "from sklearn.ensemble import RandomForestRegressor\n",
    "for i in range(20,100):\n",
    "    RF=RandomForestRegressor(n_estimators=100, max_depth= 10)\n",
    "    RF.fit(X_train,y_train.ravel())\n",
    "    RF.predict(X_test)\n",
    "    print(\"n_estimator = \",i)\n",
    "    print(\"Training Score =\",RF.score(X_train,y_train))\n",
    "    print(\"TEsting Score = \",RF.score(X_test,y_test))"
   ]
  },
  {
   "cell_type": "code",
   "execution_count": 63,
   "metadata": {},
   "outputs": [],
   "source": [
    "#Creating Model Using Sklearn.Inear_model LinearRegression\n",
    "from sklearn.linear_model import LinearRegression\n",
    "reg= LinearRegression()\n",
    "reg.fit(X_train, y_train)\n",
    "y_pred = reg.predict(X_test)"
   ]
  },
  {
   "cell_type": "code",
   "execution_count": 69,
   "metadata": {},
   "outputs": [
    {
     "data": {
      "text/plain": [
       "1.0"
      ]
     },
     "execution_count": 69,
     "metadata": {},
     "output_type": "execute_result"
    }
   ],
   "source": [
    "reg.score(X_train, y_train)\n",
    "reg.score(X_test, y_test)"
   ]
  },
  {
   "cell_type": "code",
   "execution_count": 65,
   "metadata": {},
   "outputs": [
    {
     "data": {
      "text/html": [
       "<div>\n",
       "<style scoped>\n",
       "    .dataframe tbody tr th:only-of-type {\n",
       "        vertical-align: middle;\n",
       "    }\n",
       "\n",
       "    .dataframe tbody tr th {\n",
       "        vertical-align: top;\n",
       "    }\n",
       "\n",
       "    .dataframe thead th {\n",
       "        text-align: right;\n",
       "    }\n",
       "</style>\n",
       "<table border=\"1\" class=\"dataframe\">\n",
       "  <thead>\n",
       "    <tr style=\"text-align: right;\">\n",
       "      <th></th>\n",
       "      <th>Actual</th>\n",
       "      <th>Predicted</th>\n",
       "    </tr>\n",
       "  </thead>\n",
       "  <tbody>\n",
       "    <tr>\n",
       "      <th>0</th>\n",
       "      <td>182645.56</td>\n",
       "      <td>182645.56</td>\n",
       "    </tr>\n",
       "    <tr>\n",
       "      <th>1</th>\n",
       "      <td>91790.61</td>\n",
       "      <td>91790.61</td>\n",
       "    </tr>\n",
       "    <tr>\n",
       "      <th>2</th>\n",
       "      <td>110594.11</td>\n",
       "      <td>110594.11</td>\n",
       "    </tr>\n",
       "    <tr>\n",
       "      <th>3</th>\n",
       "      <td>84710.77</td>\n",
       "      <td>84710.77</td>\n",
       "    </tr>\n",
       "    <tr>\n",
       "      <th>4</th>\n",
       "      <td>101145.55</td>\n",
       "      <td>101145.55</td>\n",
       "    </tr>\n",
       "    <tr>\n",
       "      <th>5</th>\n",
       "      <td>127864.55</td>\n",
       "      <td>127864.55</td>\n",
       "    </tr>\n",
       "    <tr>\n",
       "      <th>6</th>\n",
       "      <td>65947.93</td>\n",
       "      <td>65947.93</td>\n",
       "    </tr>\n",
       "    <tr>\n",
       "      <th>7</th>\n",
       "      <td>152701.92</td>\n",
       "      <td>152701.92</td>\n",
       "    </tr>\n",
       "    <tr>\n",
       "      <th>8</th>\n",
       "      <td>122782.75</td>\n",
       "      <td>122782.75</td>\n",
       "    </tr>\n",
       "    <tr>\n",
       "      <th>9</th>\n",
       "      <td>91391.77</td>\n",
       "      <td>91391.77</td>\n",
       "    </tr>\n",
       "  </tbody>\n",
       "</table>\n",
       "</div>"
      ],
      "text/plain": [
       "      Actual  Predicted\n",
       "0  182645.56  182645.56\n",
       "1   91790.61   91790.61\n",
       "2  110594.11  110594.11\n",
       "3   84710.77   84710.77\n",
       "4  101145.55  101145.55\n",
       "5  127864.55  127864.55\n",
       "6   65947.93   65947.93\n",
       "7  152701.92  152701.92\n",
       "8  122782.75  122782.75\n",
       "9   91391.77   91391.77"
      ]
     },
     "execution_count": 65,
     "metadata": {},
     "output_type": "execute_result"
    }
   ],
   "source": [
    "df = pd.DataFrame({'Actual': y_test, 'Predicted': y_pred})  \n",
    "# Difference between Actual Data and Own Predicted Data\n",
    "df "
   ]
  },
  {
   "cell_type": "code",
   "execution_count": 66,
   "metadata": {},
   "outputs": [
    {
     "data": {
      "image/png": "[encoded data removed]",
      "text/plain": [
       "<Figure size 432x288 with 1 Axes>"
      ]
     },
     "metadata": {
      "needs_background": "light"
     },
     "output_type": "display_data"
    },
    {
     "data": {
      "image/png": "[encoded data removed]",
      "text/plain": [
       "<Figure size 432x288 with 1 Axes>"
      ]
     },
     "metadata": {
      "needs_background": "light"
     },
     "output_type": "display_data"
    }
   ],
   "source": [
    "# Final visualization \n",
    "df.plot(kind=\"line\")\n",
    "df.plot(kind=\"bar\")\n",
    "plt.show()"
   ]
  },
  {
   "cell_type": "markdown",
   "metadata": {},
   "source": [
    "As I see the working load and accuracy of Trainig and Testing Dataset, I have noticed the Decision Tree Regressor alogorithm predicted more accurate then other two algorithms.\n",
    "\n",
    "Accuracy of DeicisionTreeRegressor is : \n",
    "Training set: 100%\n",
    "Testing set: 97%\n",
    "\n",
    "Accuracy of RandomForestRegressor is :\n",
    "Training set: 98%\n",
    "Testing set: 96%\n",
    "\n",
    "Accuracy of LinearRegressor is :\n",
    "Training set: 95%\n",
    "Testing set: 93%"
   ]
  },
  {
   "cell_type": "code",
   "execution_count": 67,
   "metadata": {},
   "outputs": [
    {
     "data": {
      "image/png": "[encoded data removed]",
      "text/plain": [
       "<Figure size 432x288 with 1 Axes>"
      ]
     },
     "metadata": {
      "needs_background": "light"
     },
     "output_type": "display_data"
    }
   ],
   "source": [
    "plt.hist(training_score)\n",
    "plt.hist(test_score, alpha=0.5)\n",
    "plt.legend([\"training\", \"testing\"])\n",
    "plt.show()"
   ]
  },
  {
   "cell_type": "code",
   "execution_count": 68,
   "metadata": {},
   "outputs": [
    {
     "name": "stdout",
     "output_type": "stream",
     "text": [
      "Mean Absolute Error: 3.92901711165905e-11\n"
     ]
    }
   ],
   "source": [
    "from sklearn import metrics  \n",
    "print('Mean Absolute Error:', \n",
    "      metrics.mean_absolute_error(y_test, y_pred)) "
   ]
  },
  {
   "cell_type": "markdown",
   "metadata": {},
   "source": [
    "## Author: Gautam Kumar Jaiswal"
   ]
  }
 ],
 "metadata": {
  "colab": {
   "name": "DecisionTree_RandomForest_Regression.ipynb",
   "provenance": []
  },
  "kernelspec": {
   "display_name": "Python 3",
   "language": "python",
   "name": "python3"
  },
  "language_info": {
   "codemirror_mode": {
    "name": "ipython",
    "version": 3
   },
   "file_extension": ".py",
   "mimetype": "text/x-python",
   "name": "python",
   "nbconvert_exporter": "python",
   "pygments_lexer": "ipython3",
   "version": "3.7.6"
  }
 },
 "nbformat": 4,
 "nbformat_minor": 1
}
